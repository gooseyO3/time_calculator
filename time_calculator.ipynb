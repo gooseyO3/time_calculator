{
 "cells": [
  {
   "cell_type": "markdown",
   "metadata": {},
   "source": [
    "# TIME CALCULATOR PROYECT"
   ]
  },
  {
   "cell_type": "markdown",
   "metadata": {},
   "source": [
    "## IMPLEMENTATION"
   ]
  },
  {
   "cell_type": "code",
   "execution_count": 17,
   "metadata": {},
   "outputs": [],
   "source": [
    "def add_time(start, duration, day=False):\n",
    "    complete_day = 1440  # minutes in a day\n",
    "    week_days = [\n",
    "        'monday', \n",
    "        'tuesday', \n",
    "        'wednesday', \n",
    "        'thursday', \n",
    "        'friday', \n",
    "        'saturday', \n",
    "        'sunday'\n",
    "    ]\n",
    "\n",
    "    # extract start time and duration\n",
    "    time, period = start.split()\n",
    "    h_start, m_start = map(int, time.split(':'))\n",
    "    h_duration, m_duration = map(int, duration.split(':'))\n",
    "    \n",
    "    # convert start time to 24-hour format and to minutes\n",
    "    if period == 'PM' and h_start != 12:\n",
    "        h_start += 12\n",
    "    if period == 'AM' and h_start == 12:\n",
    "        h_start = 0\n",
    "    \n",
    "    total_minutes = (h_start + h_duration) * 60 + m_start + m_duration\n",
    "    \n",
    "    # calculate new time in minutes (simplify ops)\n",
    "    days_passed = total_minutes // complete_day\n",
    "    remaining_minutes = total_minutes % complete_day\n",
    "    h_remaining = remaining_minutes // 60\n",
    "    m_remaining = remaining_minutes % 60\n",
    "    \n",
    "    # determine new period\n",
    "    new_period = 'AM' if h_remaining < 12 else 'PM'\n",
    "    if h_remaining == 0:\n",
    "        h_remaining = 12\n",
    "    elif h_remaining > 12:\n",
    "        h_remaining -= 12\n",
    "    \n",
    "    # new time string\n",
    "    new_time = f\"{h_remaining}:{m_remaining:02} {new_period}\"\n",
    "    \n",
    "    # add day of the week if provided\n",
    "    if day:\n",
    "        day = day.strip().lower()\n",
    "        selected_day = (week_days.index(day) + days_passed) % 7\n",
    "        today = week_days[selected_day].title()\n",
    "        new_time += f\", {today}\"\n",
    "    \n",
    "    if days_passed == 1:\n",
    "        new_time += \" (next day)\"\n",
    "    elif days_passed > 1:\n",
    "        new_time += f\" ({days_passed} days later)\"\n",
    "\n",
    "    return new_time"
   ]
  },
  {
   "cell_type": "markdown",
   "metadata": {},
   "source": [
    "## TESTING"
   ]
  },
  {
   "cell_type": "code",
   "execution_count": 20,
   "metadata": {},
   "outputs": [
    {
     "data": {
      "text/plain": [
       "'2:59 AM (next day)'"
      ]
     },
     "execution_count": 20,
     "metadata": {},
     "output_type": "execute_result"
    }
   ],
   "source": [
    "add_time('2:59 AM', '24:00')"
   ]
  }
 ],
 "metadata": {
  "kernelspec": {
   "display_name": "Python 3",
   "language": "python",
   "name": "python3"
  },
  "language_info": {
   "codemirror_mode": {
    "name": "ipython",
    "version": 3
   },
   "file_extension": ".py",
   "mimetype": "text/x-python",
   "name": "python",
   "nbconvert_exporter": "python",
   "pygments_lexer": "ipython3",
   "version": "3.13.1"
  }
 },
 "nbformat": 4,
 "nbformat_minor": 2
}
